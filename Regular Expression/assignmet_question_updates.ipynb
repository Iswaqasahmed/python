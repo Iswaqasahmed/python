{
 "metadata": {
  "language_info": {
   "codemirror_mode": {
    "name": "ipython",
    "version": 3
   },
   "file_extension": ".py",
   "mimetype": "text/x-python",
   "name": "python",
   "nbconvert_exporter": "python",
   "pygments_lexer": "ipython3",
   "version": "3.8.3-final"
  },
  "orig_nbformat": 2,
  "kernelspec": {
   "name": "python3",
   "display_name": "Python 3"
  }
 },
 "nbformat": 4,
 "nbformat_minor": 2,
 "cells": [
  {
   "cell_type": "code",
   "execution_count": 1,
   "metadata": {},
   "outputs": [],
   "source": [
    "import re"
   ]
  },
  {
   "cell_type": "code",
   "execution_count": 30,
   "metadata": {},
   "outputs": [],
   "source": [
    "\n",
    "def Question1(string):\n",
    "    \n",
    "    \"\"\"Validate invoice numbers which have formats like LJI1020, the first 3 characters are\n",
    "        alphabets and remaining is 8 length number\"\"\"\n",
    "    \n",
    "    if re.search('([\\D]{3})([\\d]{8})',string):  \n",
    "        return \"Match\" \n",
    "    else:\n",
    "        return \"Not Match\"\n",
    "def Question2(string):\n",
    "    \n",
    "    \"\"\"Check the format INV190203 or inv820830 with first 3 characters alphabets case\n",
    "        insensitive and remaining 8 length numeric\"\"\"\n",
    "    \n",
    "    if re.search('(^[A-Z]{3})([\\d]{8}$)',string):  \n",
    "        return \"Match\"\n",
    "    else:\n",
    "        return \"No Match\"\n",
    "    \n",
    "def Question3(string):\n",
    "    \"\"\"Can we see a simple validation for website URL’s\"\"\"\n",
    "    if re.search('^(http\\\\\\\\:|https\\\\\\\\:)(www.)[\\w]{2,60}(.com|.co).*',string):\n",
    "        return \"Match\"\n",
    "    else:\n",
    "        return(\"Not Match\")\n",
    "\n",
    "def Question4(string):\n",
    "    \n",
    "    \"\"\"Validate a 11 digit number in which there is an option ‘-‘ after 4 digits, ex- ‘0333-\n",
    "        1234567’ , ‘03331234567’ etc\"\"\"\n",
    "    if re.search('([\\d]{4})-([\\d]*)',string):\n",
    "        return \"Match\"\n",
    "    else:\n",
    "        return \"Not Match\"\n",
    "def Question5(string):\n",
    "    \n",
    "    \"\"\"Validate a email with service provider (yahoo/ymail/gmail) and (com/co)\"\"\"\n",
    "    \n",
    "    if re.search('(^[a-z0-9]{6,30})(@yahoo|@ymail|@gmail)(.com|.co)',string):\n",
    "        return \"Match\"\n",
    "    else:\n",
    "        return \"Not Match\""
   ]
  },
  {
   "cell_type": "code",
   "execution_count": 33,
   "metadata": {},
   "outputs": [
    {
     "output_type": "stream",
     "name": "stdout",
     "text": [
      "Match\nMatch\nMatch\nMatch\nMatch\n"
     ]
    }
   ],
   "source": [
    "print(Question1('dad34245544'))\n",
    "print(Question2('ASD23442543'))\n",
    "print(Question3('https\\\\:www.usmaraslamnawab.com\\dfaadf'))\n",
    "print(Question4('4554-4644646684'))\n",
    "print(Question5('usmaraslamnawab@yahoo.com'))"
   ]
  },
  {
   "cell_type": "code",
   "execution_count": 35,
   "metadata": {},
   "outputs": [],
   "source": [
    "def __init__(self,):\n",
    "    pass\n",
    "def Question1(self,text):\n",
    "    if re.search('[a-g]',text):\n",
    "        return (\"Match\" if re.search('[a-g]{3}',text) else \"Not Match\")\n",
    "def Question2(self,text):\n",
    "    return (\"Match\" if re.search('[a-g]{3}',text) else \"Not Match\")\n",
    "def Question3(self,text):\n",
    "    return (\"Match\" if re.search('[a-g]{1,3}',text) else \"Not Match\")\n",
    "def Question4(self,text):\n",
    "    return (\"Match\" if re.search(\"[\\d]{8}\",text) else \"Not Match\")\n",
    "def Question5(self,text):\n",
    "    return (\"Match\" if re.search(\"[\\d]{3,7}\",text) else \"Not Match\")"
   ]
  },
  {
   "cell_type": "code",
   "execution_count": 36,
   "metadata": {},
   "outputs": [
    {
     "output_type": "stream",
     "name": "stdout",
     "text": [
      "Match\nMatch\nMatch\nMatch\nMatch\n"
     ]
    }
   ],
   "source": [
    "regexp2 = Assignment2()\n",
    "print(regexp2.Question1('dfaaafdadfa'))\n",
    "print(regexp2.Question2('djfakaaaf3940fjm'))\n",
    "print(regexp2.Question3('jdj2ab93ajbaedg'))\n",
    "print(regexp2.Question4('58451111'))\n",
    "print(regexp2.Question5('000000'))"
   ]
  },
  {
   "cell_type": "code",
   "execution_count": null,
   "metadata": {},
   "outputs": [],
   "source": []
  }
 ]
}