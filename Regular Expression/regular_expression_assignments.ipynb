{
 "metadata": {
  "language_info": {
   "codemirror_mode": {
    "name": "ipython",
    "version": 3
   },
   "file_extension": ".py",
   "mimetype": "text/x-python",
   "name": "python",
   "nbconvert_exporter": "python",
   "pygments_lexer": "ipython3",
   "version": "3.9.0-final"
  },
  "orig_nbformat": 2,
  "kernelspec": {
   "name": "Python 3.9.0 64-bit",
   "display_name": "Python 3.9.0 64-bit",
   "metadata": {
    "interpreter": {
     "hash": "5635ed104e5fe25eca67b2199516701991006df5bad06ddf2e01129a32aeb916"
    }
   }
  }
 },
 "nbformat": 4,
 "nbformat_minor": 2,
 "cells": [
  {
   "cell_type": "code",
   "execution_count": 3,
   "metadata": {},
   "outputs": [],
   "source": [
    "# imported regular expression \n",
    "import re"
   ]
  },
  {
   "cell_type": "code",
   "execution_count": 34,
   "metadata": {},
   "outputs": [],
   "source": [
    "class Assignment1:   # class name assingment\n",
    "    def __init__(self): # Contructor created \n",
    "        self.self = self\n",
    "    def Question1(self,string): # Question1 is method here (not function because it is created inside the class)\n",
    "        \n",
    "        \"\"\"Validate invoice numbers which have formats like LJI1020, the first 3 characters are\n",
    "            alphabets and remaining is 8 length number\"\"\"\n",
    "        \n",
    "        if re.search('([\\D]{3})([\\d]{8})',string):  # \\D means any character + digits and \\d only digits\n",
    "            return \"Match\" \n",
    "        else:\n",
    "            return \"Not Match\"\n",
    "    def Question2(self,string):\n",
    "        \n",
    "        \"\"\"Check the format INV190203 or inv820830 with first 3 characters alphabets case\n",
    "            insensitive and remaining 8 length numeric\"\"\"\n",
    "        \n",
    "        if re.search('(^[A-Za-z]{3})([\\d]{8}$)',string):  # ^ means starting and $ means ending \n",
    "            return \"Match\"\n",
    "        else:\n",
    "            return \"No Match\"\n",
    "        \n",
    "    def Question3(self,string):\n",
    "        \"\"\"Can we see a simple validation for website URL’s\"\"\"\n",
    "            return \"Match\"\n",
    "        else:\n",
    "            return(\"Not Match\")\n",
    "    \n",
    "    def Question4(self,string):\n",
    "        \n",
    "        \"\"\"Validate a 11 digit number in which there is an option ‘-‘ after 4 digits, ex- ‘0333-\n",
    "            1234567’ , ‘03331234567’ etc\"\"\"\n",
    "        if re.search('([\\d]{4})-([\\d]*)',string):\n",
    "            return \"Match\"\n",
    "        else:\n",
    "            return \"Not Match\"\n",
    "    def Question5(self,string):\n",
    "        \n",
    "        \"\"\"Validate a email with service provider (yahoo/ymail/gmail) and (com/co)\"\"\"\n",
    "        \n",
    "        if re.search('(^[a-z0-9]{6,30})(@yahoo|@ymail|@gmail)(.com|.co)',string):\n",
    "            return \"Match\"\n",
    "        else:\n",
    "            return \"Not Match\"\n",
    "\n"
   ]
  },
  {
   "cell_type": "code",
   "execution_count": 35,
   "metadata": {},
   "outputs": [],
   "source": [
    "assignment_answer = Assignment1()    # class instance is created\n"
   ]
  },
  {
   "cell_type": "code",
   "execution_count": 36,
   "metadata": {},
   "outputs": [
    {
     "output_type": "execute_result",
     "data": {
      "text/plain": [
       "'Match'"
      ]
     },
     "metadata": {},
     "execution_count": 36
    }
   ],
   "source": [
    "## press shift + tab for singnature    \n",
    "\n",
    "assignment_answer.Question1(\"akjdfkadjf8474854fka4546353653655j\")    # instance object is called"
   ]
  },
  {
   "cell_type": "code",
   "execution_count": 37,
   "metadata": {},
   "outputs": [
    {
     "output_type": "execute_result",
     "data": {
      "text/plain": [
       "'Match'"
      ]
     },
     "metadata": {},
     "execution_count": 37
    }
   ],
   "source": [
    "assignment_answer.Question2(\"rrf32345678\")\n"
   ]
  },
  {
   "cell_type": "code",
   "execution_count": 41,
   "metadata": {},
   "outputs": [
    {
     "output_type": "execute_result",
     "data": {
      "text/plain": [
       "'Not Match'"
      ]
     },
     "metadata": {},
     "execution_count": 41
    }
   ],
   "source": [
    "\n",
    "assignment_answer.Question3('https\\\\:www.dfadadad.com')\n"
   ]
  },
  {
   "cell_type": "code",
   "execution_count": 39,
   "metadata": {},
   "outputs": [
    {
     "output_type": "execute_result",
     "data": {
      "text/plain": [
       "'Match'"
      ]
     },
     "metadata": {},
     "execution_count": 39
    }
   ],
   "source": [
    "\n",
    "assignment_answer.Question4('1234-5678913254844546545484')\n"
   ]
  },
  {
   "cell_type": "code",
   "execution_count": 40,
   "metadata": {},
   "outputs": [
    {
     "output_type": "execute_result",
     "data": {
      "text/plain": [
       "'Match'"
      ]
     },
     "metadata": {},
     "execution_count": 40
    }
   ],
   "source": [
    "assignment_answer.Question5('waqasahmed@gmail.co')\n"
   ]
  },
  {
   "cell_type": "code",
   "execution_count": null,
   "metadata": {},
   "outputs": [],
   "source": []
  },
  {
   "cell_type": "code",
   "execution_count": null,
   "metadata": {},
   "outputs": [],
   "source": []
  }
 ]
}