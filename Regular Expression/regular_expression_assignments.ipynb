{
 "metadata": {
  "language_info": {
   "codemirror_mode": {
    "name": "ipython",
    "version": 3
   },
   "file_extension": ".py",
   "mimetype": "text/x-python",
   "name": "python",
   "nbconvert_exporter": "python",
   "pygments_lexer": "ipython3",
   "version": "3.9.0-final"
  },
  "orig_nbformat": 2,
  "kernelspec": {
   "name": "Python 3.9.0 64-bit",
   "display_name": "Python 3.9.0 64-bit",
   "metadata": {
    "interpreter": {
     "hash": "5635ed104e5fe25eca67b2199516701991006df5bad06ddf2e01129a32aeb916"
    }
   }
  }
 },
 "nbformat": 4,
 "nbformat_minor": 2,
 "cells": [
  {
   "cell_type": "code",
   "execution_count": 1,
   "metadata": {},
   "outputs": [],
   "source": [
    "# imported regular expression \n",
    "import re"
   ]
  },
  {
   "cell_type": "code",
   "execution_count": 2,
   "metadata": {},
   "outputs": [],
   "source": [
    "class Assignment1:   # class name assingment\n",
    "    def __init__(self): # Contructor created \n",
    "        self.self = self\n",
    "    def Question1(self,string): # Question1 is method here (not function because it is created inside the class)\n",
    "        \n",
    "        \"\"\"Validate invoice numbers which have formats like LJI1020, the first 3 characters are\n",
    "            alphabets and remaining is 8 length number\"\"\"\n",
    "        \n",
    "        if re.search('([\\D]{3})([\\d]{8})',string):  # \\D means any character + digits and \\d only digits\n",
    "            return \"Match\" \n",
    "        else:\n",
    "            return \"Not Match\"\n",
    "    def Question2(self,string):\n",
    "        \n",
    "        \"\"\"Check the format INV190203 or inv820830 with first 3 characters alphabets case\n",
    "            insensitive and remaining 8 length numeric\"\"\"\n",
    "        \n",
    "        if re.search('(^[A-Za-z]{3})([\\d]{8}$)',string):  # ^ means starting and $ means ending \n",
    "            return \"Match\"\n",
    "        else:\n",
    "            return \"No Match\"\n",
    "        \n",
    "    def Question3(self,string):\n",
    "        \"\"\"Can we see a simple validation for website URL’s\"\"\"\n",
    "        if re.search('^(http\\\\\\\\:|https\\\\\\\\:)(www.)[\\w]{2,60}(.com|.co)$',string):\n",
    "            return \"Match\"\n",
    "        else:\n",
    "            return(\"Not Match\")\n",
    "    \n",
    "    def Question4(self,string):\n",
    "        \n",
    "        \"\"\"Validate a 11 digit number in which there is an option ‘-‘ after 4 digits, ex- ‘0333-\n",
    "            1234567’ , ‘03331234567’ etc\"\"\"\n",
    "        if re.search('([\\d]{4})-([\\d]*)',string):\n",
    "            return \"Match\"\n",
    "        else:\n",
    "            return \"Not Match\"\n",
    "    def Question5(self,string):\n",
    "        \n",
    "        \"\"\"Validate a email with service provider (yahoo/ymail/gmail) and (com/co)\"\"\"\n",
    "        \n",
    "        if re.search('(^[a-z0-9]{6,30})(@yahoo|@ymail|@gmail)(.com|.co)',string):\n",
    "            return \"Match\"\n",
    "        else:\n",
    "            return \"Not Match\"\n",
    "\n"
   ]
  },
  {
   "cell_type": "code",
   "execution_count": 3,
   "metadata": {},
   "outputs": [],
   "source": [
    "assignment_answer = Assignment1()    # class instance is created\n"
   ]
  },
  {
   "cell_type": "code",
   "execution_count": 4,
   "metadata": {},
   "outputs": [
    {
     "output_type": "execute_result",
     "data": {
      "text/plain": [
       "'Match'"
      ]
     },
     "metadata": {},
     "execution_count": 4
    }
   ],
   "source": [
    "## press shift + tab for singnature    \n",
    "\n",
    "assignment_answer.Question1(\"akjdfkadjf8474854fka4546353653655j\")    # instance object is called"
   ]
  },
  {
   "cell_type": "code",
   "execution_count": 5,
   "metadata": {},
   "outputs": [
    {
     "output_type": "execute_result",
     "data": {
      "text/plain": [
       "'Match'"
      ]
     },
     "metadata": {},
     "execution_count": 5
    }
   ],
   "source": [
    "assignment_answer.Question2(\"rrf32345678\")\n"
   ]
  },
  {
   "cell_type": "code",
   "execution_count": 6,
   "metadata": {},
   "outputs": [
    {
     "output_type": "execute_result",
     "data": {
      "text/plain": [
       "'Match'"
      ]
     },
     "metadata": {},
     "execution_count": 6
    }
   ],
   "source": [
    "\n",
    "assignment_answer.Question3('https\\\\:www.dfadfadfeq23324edcfa.com')\n"
   ]
  },
  {
   "cell_type": "code",
   "execution_count": 7,
   "metadata": {},
   "outputs": [
    {
     "output_type": "execute_result",
     "data": {
      "text/plain": [
       "'Match'"
      ]
     },
     "metadata": {},
     "execution_count": 7
    }
   ],
   "source": [
    "\n",
    "assignment_answer.Question4('1234-5678913254844546545484')\n"
   ]
  },
  {
   "cell_type": "code",
   "execution_count": 8,
   "metadata": {},
   "outputs": [
    {
     "output_type": "execute_result",
     "data": {
      "text/plain": [
       "'Match'"
      ]
     },
     "metadata": {},
     "execution_count": 8
    }
   ],
   "source": [
    "assignment_answer.Question5('waqasahmed@gmail.co')\n"
   ]
  },
  {
   "cell_type": "code",
   "execution_count": 20,
   "metadata": {},
   "outputs": [],
   "source": [
    "class Assignment2:\n",
    "    def __init__(self,):\n",
    "        pass\n",
    "    def Question1(self,text):\n",
    "        if re.search('[a-g]',text):\n",
    "            return (\"Match\" if re.search('[a-g]{3}',text) else \"Not Match\")\n",
    "    def Question2(self,text):\n",
    "        return (\"Match\" if re.search('[a-g]{3}',text) else \"Not Match\")\n",
    "    def Question3(self,text):\n",
    "        return (\"Match\" if re.search('[a-g]{1,3}',text) else \"Not Match\")\n",
    "    def Question4(self,text):\n",
    "        return (\"Match\" if re.search(\"[\\d]{8}\",text) else \"Not Match\")\n",
    "    def Question5(self,text):\n",
    "        return (\"Match\" if re.search(\"[\\d]{3,7}\",text) else \"Not Match\")"
   ]
  },
  {
   "cell_type": "code",
   "execution_count": 28,
   "metadata": {},
   "outputs": [
    {
     "output_type": "stream",
     "name": "stdout",
     "text": [
      "Match\nMatch\nMatch\nMatch\nMatch\n"
     ]
    }
   ],
   "source": [
    "regexp2 = Assignment2()\n",
    "print(regexp2.Question1('dfaaahajdhfa'))\n",
    "print(regexp2.Question2('djfakaaaf3940fjm'))\n",
    "print(regexp2.Question3('jdj2ab93ajbaedg'))\n",
    "print(regexp2.Question4('5874454545'))\n",
    "print(regexp2.Question5('45546'))"
   ]
  },
  {
   "cell_type": "code",
   "execution_count": null,
   "metadata": {},
   "outputs": [],
   "source": []
  }
 ]
}