{
 "metadata": {
  "language_info": {
   "codemirror_mode": {
    "name": "ipython",
    "version": 3
   },
   "file_extension": ".py",
   "mimetype": "text/x-python",
   "name": "python",
   "nbconvert_exporter": "python",
   "pygments_lexer": "ipython3",
   "version": "3.8.3-final"
  },
  "orig_nbformat": 2,
  "kernelspec": {
   "name": "Python 3.8.3 64-bit (conda)",
   "display_name": "Python 3.8.3 64-bit (conda)",
   "metadata": {
    "interpreter": {
     "hash": "b3ba2566441a7c06988d0923437866b63cedc61552a5af99d1f4fb67d367b25f"
    }
   }
  }
 },
 "nbformat": 4,
 "nbformat_minor": 2,
 "cells": [
  {
   "cell_type": "code",
   "execution_count": 1,
   "metadata": {},
   "outputs": [],
   "source": [
    "import re\n",
    "import pandas as pd\n",
    "import numpy as np"
   ]
  },
  {
   "cell_type": "code",
   "execution_count": 4,
   "metadata": {},
   "outputs": [],
   "source": [
    "data = pd.read_csv('H:\\Data analysis in python\\week 1\\logdata.txt')"
   ]
  },
  {
   "cell_type": "code",
   "execution_count": 6,
   "metadata": {},
   "outputs": [
    {
     "output_type": "execute_result",
     "data": {
      "text/plain": [
       "  146.204.224.152 - feest6811 [21/Jun/2019:15:45:24 -0700] \"POST /incentivize HTTP/1.1\" 302 4622\n",
       "0  197.109.77.178 - kertzmann3129 [21/Jun/2019:15...                                            \n",
       "1  156.127.178.177 - okuneva5222 [21/Jun/2019:15:...                                            \n",
       "2  100.32.205.59 - ortiz8891 [21/Jun/2019:15:45:2...                                            \n",
       "3  168.95.156.240 - stark2413 [21/Jun/2019:15:45:...                                            \n",
       "4  71.172.239.195 - dooley1853 [21/Jun/2019:15:45...                                            \n",
       "5  180.95.121.94 - mohr6893 [21/Jun/2019:15:45:34...                                            \n",
       "6  144.23.247.108 - auer7552 [21/Jun/2019:15:45:3...                                            \n",
       "7  2.179.103.97 - lind8584 [21/Jun/2019:15:45:36 ...                                            \n",
       "8  241.114.184.133 - tromp8355 [21/Jun/2019:15:45...                                            \n",
       "9  224.188.38.4 - keebler1423 [21/Jun/2019:15:45:...                                            "
      ],
      "text/html": "<div>\n<style scoped>\n    .dataframe tbody tr th:only-of-type {\n        vertical-align: middle;\n    }\n\n    .dataframe tbody tr th {\n        vertical-align: top;\n    }\n\n    .dataframe thead th {\n        text-align: right;\n    }\n</style>\n<table border=\"1\" class=\"dataframe\">\n  <thead>\n    <tr style=\"text-align: right;\">\n      <th></th>\n      <th>146.204.224.152 - feest6811 [21/Jun/2019:15:45:24 -0700] \"POST /incentivize HTTP/1.1\" 302 4622</th>\n    </tr>\n  </thead>\n  <tbody>\n    <tr>\n      <th>0</th>\n      <td>197.109.77.178 - kertzmann3129 [21/Jun/2019:15...</td>\n    </tr>\n    <tr>\n      <th>1</th>\n      <td>156.127.178.177 - okuneva5222 [21/Jun/2019:15:...</td>\n    </tr>\n    <tr>\n      <th>2</th>\n      <td>100.32.205.59 - ortiz8891 [21/Jun/2019:15:45:2...</td>\n    </tr>\n    <tr>\n      <th>3</th>\n      <td>168.95.156.240 - stark2413 [21/Jun/2019:15:45:...</td>\n    </tr>\n    <tr>\n      <th>4</th>\n      <td>71.172.239.195 - dooley1853 [21/Jun/2019:15:45...</td>\n    </tr>\n    <tr>\n      <th>5</th>\n      <td>180.95.121.94 - mohr6893 [21/Jun/2019:15:45:34...</td>\n    </tr>\n    <tr>\n      <th>6</th>\n      <td>144.23.247.108 - auer7552 [21/Jun/2019:15:45:3...</td>\n    </tr>\n    <tr>\n      <th>7</th>\n      <td>2.179.103.97 - lind8584 [21/Jun/2019:15:45:36 ...</td>\n    </tr>\n    <tr>\n      <th>8</th>\n      <td>241.114.184.133 - tromp8355 [21/Jun/2019:15:45...</td>\n    </tr>\n    <tr>\n      <th>9</th>\n      <td>224.188.38.4 - keebler1423 [21/Jun/2019:15:45:...</td>\n    </tr>\n  </tbody>\n</table>\n</div>"
     },
     "metadata": {},
     "execution_count": 6
    }
   ],
   "source": [
    "pd.DataFrame(data).head(10)"
   ]
  },
  {
   "cell_type": "code",
   "execution_count": null,
   "metadata": {},
   "outputs": [],
   "source": []
  }
 ]
}